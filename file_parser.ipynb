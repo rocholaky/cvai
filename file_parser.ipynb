{
 "cells": [
  {
   "cell_type": "code",
   "execution_count": 84,
   "metadata": {},
   "outputs": [
    {
     "name": "stderr",
     "output_type": "stream",
     "text": [
      "CropBox missing from /Page, defaulting to MediaBox\n",
      "CropBox missing from /Page, defaulting to MediaBox\n"
     ]
    }
   ],
   "source": [
    "from unstructured.partition.pdf import partition_pdf\n",
    "elements = partition_pdf(filename=\"files/CVRobertoCholaky_ES_2025_MELI.pdf\", strategy=\"hi_res\", hi_res_model = 'yolox', language=\"es\")"
   ]
  },
  {
   "cell_type": "code",
   "execution_count": 83,
   "metadata": {},
   "outputs": [
    {
     "data": {
      "text/plain": [
       "{'type': 'Title',\n",
       " 'element_id': 'eb3082977c0047a343fbd5ad98216778',\n",
       " 'text': 'EXPERIENCIA LABORAL',\n",
       " 'metadata': {'coordinates': {'points': ((14.173000000000059,\n",
       "     79.14628420000008),\n",
       "    (14.173000000000059, 89.10888420000015),\n",
       "    (133.17625700000005, 89.10888420000015),\n",
       "    (133.17625700000005, 79.14628420000008)),\n",
       "   'system': 'PixelSpace',\n",
       "   'layout_width': 595.276,\n",
       "   'layout_height': 841.89},\n",
       "  'file_directory': 'files',\n",
       "  'filename': 'CVRobertoCholaky_ES_2025_MELI.pdf',\n",
       "  'languages': ['eng'],\n",
       "  'last_modified': '2025-04-13T14:19:53',\n",
       "  'page_number': 1,\n",
       "  'parent_id': '504143c41c6fef9cd94e682841134f8f',\n",
       "  'filetype': 'application/pdf'}}"
      ]
     },
     "execution_count": 83,
     "metadata": {},
     "output_type": "execute_result"
    }
   ],
   "source": [
    "elements[4].to_dict()\n"
   ]
  },
  {
   "cell_type": "code",
   "execution_count": 85,
   "metadata": {},
   "outputs": [],
   "source": [
    "import pymupdf4llm"
   ]
  },
  {
   "cell_type": "code",
   "execution_count": 97,
   "metadata": {},
   "outputs": [
    {
     "name": "stdout",
     "output_type": "stream",
     "text": [
      "Successfully imported LlamaIndex\n"
     ]
    }
   ],
   "source": [
    "llama_reader = pymupdf4llm.LlamaMarkdownReader()\n",
    "doc = llama_reader.load_data(\"files/cvMeta.pdf\")"
   ]
  },
  {
   "cell_type": "code",
   "execution_count": 102,
   "metadata": {},
   "outputs": [
    {
     "data": {
      "text/plain": [
       "{'format': 'PDF 1.5',\n",
       " 'title': '',\n",
       " 'author': '',\n",
       " 'subject': '',\n",
       " 'keywords': '',\n",
       " 'creator': 'TeX',\n",
       " 'producer': 'pdfTeX-1.40.26',\n",
       " 'creationDate': 'D:20250413191758Z',\n",
       " 'modDate': 'D:20250413191758Z',\n",
       " 'trapped': '',\n",
       " 'encryption': None,\n",
       " 'page': 1,\n",
       " 'total_pages': 1,\n",
       " 'file_path': 'files/cvMeta.pdf'}"
      ]
     },
     "execution_count": 102,
     "metadata": {},
     "output_type": "execute_result"
    }
   ],
   "source": [
    "doc[0].metadata"
   ]
  },
  {
   "cell_type": "code",
   "execution_count": 92,
   "metadata": {},
   "outputs": [],
   "source": [
    "md_text = pymupdf4llm.to_markdown(\"files/cvMeta.pdf\")"
   ]
  },
  {
   "cell_type": "code",
   "execution_count": 94,
   "metadata": {},
   "outputs": [
    {
     "data": {
      "text/plain": [
       "5502"
      ]
     },
     "execution_count": 94,
     "metadata": {},
     "output_type": "execute_result"
    }
   ],
   "source": [
    "import pathlib\n",
    "pathlib.Path(\"parsed_files/cvMeta.md\").write_text(md_text)"
   ]
  },
  {
   "cell_type": "code",
   "execution_count": null,
   "metadata": {},
   "outputs": [],
   "source": []
  }
 ],
 "metadata": {
  "kernelspec": {
   "display_name": "GenAI",
   "language": "python",
   "name": "python3"
  },
  "language_info": {
   "codemirror_mode": {
    "name": "ipython",
    "version": 3
   },
   "file_extension": ".py",
   "mimetype": "text/x-python",
   "name": "python",
   "nbconvert_exporter": "python",
   "pygments_lexer": "ipython3",
   "version": "3.11.11"
  }
 },
 "nbformat": 4,
 "nbformat_minor": 2
}
